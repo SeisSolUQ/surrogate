{
 "cells": [
  {
   "cell_type": "code",
   "execution_count": 1,
   "id": "a8eb4aac-0ede-4bfd-867d-ab2eff2e5e1b",
   "metadata": {},
   "outputs": [],
   "source": [
    "import json"
   ]
  },
  {
   "cell_type": "code",
   "execution_count": 23,
   "id": "a55315ee-43b9-4b3d-83a6-d8276ba1f82b",
   "metadata": {},
   "outputs": [],
   "source": [
    "json_file_path = \"custom_surrogate.json\"\n",
    "\n",
    "# Read the JSON file\n",
    "with open(json_file_path, \"r\") as f:\n",
    "    data = json.load(f)"
   ]
  },
  {
   "cell_type": "code",
   "execution_count": 37,
   "id": "d735db73-41ce-4676-9d30-26ec49f90916",
   "metadata": {},
   "outputs": [],
   "source": [
    "## Shape: torch.Size([output size, 1, input size])\n",
    "data[\"lengthscale\"] =[[[0.5, 3.5]]]\n",
    "with open(json_file_path, \"w\") as f:\n",
    "    json.dump(data, f, indent=2)"
   ]
  },
  {
   "cell_type": "code",
   "execution_count": 38,
   "id": "0afa775a-dc70-49f9-a895-c3080c83d086",
   "metadata": {},
   "outputs": [],
   "source": [
    "## Shape: torch.Size([output size])\n",
    "data[\"outputscale\"] = [3]\n",
    "with open(json_file_path, \"w\") as f:\n",
    "    json.dump(data, f, indent=2)"
   ]
  },
  {
   "cell_type": "code",
   "execution_count": 39,
   "id": "d402b8f2-a587-415d-a5ea-05ea1cbe20d9",
   "metadata": {},
   "outputs": [],
   "source": [
    "## Shape: torch.Size([output size])\n",
    "data[\"mean\"] = [4]\n",
    "with open(json_file_path, \"w\") as f:\n",
    "    json.dump(data, f, indent=2)"
   ]
  },
  {
   "cell_type": "code",
   "execution_count": 27,
   "id": "10e84b7c-9848-4c55-9337-f204fd85f41e",
   "metadata": {},
   "outputs": [],
   "source": [
    "data[\"input_dim\"] = 2\n",
    "with open(json_file_path, \"w\") as f:\n",
    "    json.dump(data, f, indent=2)"
   ]
  },
  {
   "cell_type": "code",
   "execution_count": 33,
   "id": "9fdaf922-addf-440c-84fc-e66a2f740466",
   "metadata": {},
   "outputs": [],
   "source": [
    "data[\"output_dim\"] = 1\n",
    "with open(json_file_path, \"w\") as f:\n",
    "    json.dump(data, f, indent=2)"
   ]
  },
  {
   "cell_type": "code",
   "execution_count": null,
   "id": "bcf2f67e-72d7-40d7-bb72-26277f45a74f",
   "metadata": {},
   "outputs": [],
   "source": []
  }
 ],
 "metadata": {
  "kernelspec": {
   "display_name": "Python 3 (ipykernel)",
   "language": "python",
   "name": "python3"
  },
  "language_info": {
   "codemirror_mode": {
    "name": "ipython",
    "version": 3
   },
   "file_extension": ".py",
   "mimetype": "text/x-python",
   "name": "python",
   "nbconvert_exporter": "python",
   "pygments_lexer": "ipython3",
   "version": "3.10.12"
  }
 },
 "nbformat": 4,
 "nbformat_minor": 5
}
